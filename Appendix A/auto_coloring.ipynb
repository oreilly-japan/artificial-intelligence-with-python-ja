{
 "cells": [
  {
   "cell_type": "code",
   "execution_count": null,
   "metadata": {},
   "outputs": [],
   "source": [
    "%matplotlib inline\n",
    "import numpy as np\n",
    "import matplotlib.pyplot as plt\n",
    "import cv2\n",
    "\n",
    "org_image = cv2.imread('map.png')\n",
    "plt.imshow(org_image)\n",
    "plt.show()"
   ]
  },
  {
   "cell_type": "code",
   "execution_count": null,
   "metadata": {},
   "outputs": [],
   "source": [
    "gray_image = cv2.cvtColor(org_image, cv2.COLOR_BGR2GRAY)\n",
    "kernel = np.ones((3,3), np.uint8)\n",
    "gray_image = cv2.erode(gray_image, kernel, iterations=1)\n",
    "plt.imshow(gray_image)\n",
    "plt.gray()\n",
    "plt.show()"
   ]
  },
  {
   "cell_type": "code",
   "execution_count": null,
   "metadata": {},
   "outputs": [],
   "source": [
    "contours, _ = cv2.findContours(gray_image, cv2.RETR_TREE,\n",
    "                                  cv2.CHAIN_APPROX_SIMPLE)\n",
    "for i,cnt in enumerate(contours):\n",
    "    gray_image = cv2.drawContours(gray_image, [cnt], 0, i+1, cv2.FILLED)\n",
    "\n",
    "plt.imshow(gray_image)\n",
    "plt.show()"
   ]
  },
  {
   "cell_type": "code",
   "execution_count": null,
   "metadata": {},
   "outputs": [],
   "source": [
    "nc = len(contours)\n",
    "adjacent = [set() for _ in range(nc+1)] # adjacent[ID] = set of IDs\n",
    "\n",
    "h, w = gray_image.shape\n",
    "D = 5\n",
    "for i,cnt in enumerate(contours):\n",
    "    for x,y in cnt.reshape(-1,2):\n",
    "        if (D <= x < w - D) and (D <= y < h - D):\n",
    "            surroundings = set(gray_image[y-D:y+D+1, x-D:x+D+1].ravel())\n",
    "            adjacent[i+1] |= surroundings\n",
    "\n",
    "for i in range(1, nc + 1):\n",
    "    adjacent[i] -= set([0, i])\n",
    "    for j in adjacent[i]:\n",
    "        if i in adjacent[j]:\n",
    "            adjacent[j].remove(i)\n",
    "    print(i, ':', adjacent[i])"
   ]
  },
  {
   "cell_type": "code",
   "execution_count": null,
   "metadata": {},
   "outputs": [],
   "source": [
    "from simpleai.search import CspProblem, backtrack\n",
    "\n",
    "names = list(range(1, nc+1))\n",
    "colors = dict((name, ['red', 'green', 'blue', 'gray']) for name in names)\n",
    "\n",
    "def constraint_func(names, values):\n",
    "    return values[0] != values[1]\n",
    "\n",
    "constraints = [((a, b), constraint_func)\n",
    "                   for a in range(1, nc+1)\n",
    "                       for b in adjacent[a]]\n",
    "\n",
    "problem = CspProblem(names, colors, constraints)\n",
    "output = backtrack(problem)\n",
    "print('Color mapping:')\n",
    "for k, v in output.items():\n",
    "    print(k, '==>', v)"
   ]
  },
  {
   "cell_type": "code",
   "execution_count": null,
   "metadata": {},
   "outputs": [],
   "source": [
    "cvalues = {'red':(0,0,255), 'green':(0,255,0), \n",
    "           'blue':(255,0,0), 'gray':(128,128,128)}\n",
    "\n",
    "dst_image = np.zeros((h, w, 3), np.uint8)\n",
    "for i, cnt in enumerate(contours):\n",
    "    dst_image = cv2.drawContours(dst_image, [cnt], 0, \n",
    "                                 cvalues[output[i+1]], cv2.FILLED)\n",
    "plt.imshow(dst_image)\n",
    "plt.show()"
   ]
  }
 ],
 "metadata": {
  "kernelspec": {
   "display_name": "Python 3",
   "language": "python",
   "name": "python3"
  },
  "language_info": {
   "codemirror_mode": {
    "name": "ipython",
    "version": 3
   },
   "file_extension": ".py",
   "mimetype": "text/x-python",
   "name": "python",
   "nbconvert_exporter": "python",
   "pygments_lexer": "ipython3",
   "version": "3.6.7"
  }
 },
 "nbformat": 4,
 "nbformat_minor": 2
}
